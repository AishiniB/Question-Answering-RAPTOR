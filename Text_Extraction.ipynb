{
  "nbformat": 4,
  "nbformat_minor": 0,
  "metadata": {
    "colab": {
      "provenance": []
    },
    "kernelspec": {
      "name": "python3",
      "display_name": "Python 3"
    },
    "language_info": {
      "name": "python"
    }
  },
  "cells": [
    {
      "cell_type": "code",
      "source": [
        "!pip install pypdf2"
      ],
      "metadata": {
        "colab": {
          "base_uri": "https://localhost:8080/"
        },
        "id": "9aHC8b1Ads3J",
        "outputId": "cd1a053c-46d3-4712-fccc-d55fbb00cc41"
      },
      "execution_count": 1,
      "outputs": [
        {
          "output_type": "stream",
          "name": "stdout",
          "text": [
            "Collecting pypdf2\n",
            "  Downloading pypdf2-3.0.1-py3-none-any.whl (232 kB)\n",
            "\u001b[2K     \u001b[90m━━━━━━━━━━━━━━━━━━━━━━━━━━━━━━━━━━━━━━━━\u001b[0m \u001b[32m232.6/232.6 kB\u001b[0m \u001b[31m4.9 MB/s\u001b[0m eta \u001b[36m0:00:00\u001b[0m\n",
            "\u001b[?25hInstalling collected packages: pypdf2\n",
            "Successfully installed pypdf2-3.0.1\n"
          ]
        }
      ]
    },
    {
      "cell_type": "code",
      "source": [
        "import PyPDF2\n",
        "import regex as re\n",
        "import numpy as np"
      ],
      "metadata": {
        "id": "IvjVOF0HzTqV"
      },
      "execution_count": 2,
      "outputs": []
    },
    {
      "cell_type": "code",
      "source": [
        "def extract_text_from_pdf(pdf_path):\n",
        "    # Open the PDF file\n",
        "    with open(pdf_path, 'rb') as file:\n",
        "        reader = PyPDF2.PdfReader(file)\n",
        "        # Initialize a variable to store the extracted text\n",
        "        text = \"\"\n",
        "\n",
        "        # Iterate through all the pages\n",
        "        for page_num in range(len(reader.pages)):\n",
        "            # Get the page\n",
        "            page = reader.pages[page_num]\n",
        "            # Extract text from the page\n",
        "            text += page.extract_text()\n",
        "\n",
        "    # Start extraction from the first occurrence of 'Chapter'\n",
        "    chapter_index = text.find('Chapter')\n",
        "    if chapter_index != -1:\n",
        "        text = text[chapter_index:]\n",
        "\n",
        "    # Remove specific patterns\n",
        "    text = re.sub(r'1984 [\\W\\d]+', '', text)  # Remove '1984 ' followed by number/special char\n",
        "    text = re.sub(r'[\\W\\d]+ Free eBooks at Planet eBook.com', '', text)  # Remove pattern followed by 'Free eBooks at Planet eBook.com'\n",
        "    text = re.sub(r'Pride and Prejudice [\\W\\d]+', '', text)  # Remove 'Pride and Prejudice ' followed by number/special char\n",
        "    text = re.sub(r'Wuthering Heights [\\W\\d]+', '', text)  # Remove 'Wuthering ' followed by number/special char\n",
        "\n",
        "    return text\n",
        "\n",
        "# Paths to the PDF files\n",
        "pdf_paths = [\"/content/1984.pdf\", \"/content/pride-and-prejudice.pdf\", \"/content/wuthering-heights.pdf\"]\n",
        "\n",
        "# Extract text from each textbook\n",
        "extracted_texts = [extract_text_from_pdf(pdf_path) for pdf_path in pdf_paths]\n",
        "\n",
        "# Save the extracted text to files (optional)\n",
        "for i, text in enumerate(extracted_texts):\n",
        "    with open(f\"textbook{i+1}_extracted.txt\", 'w', encoding='utf-8') as file:\n",
        "        file.write(text)\n",
        "\n",
        "# Printing a sample of the extracted text from each textbook\n",
        "for i, text in enumerate(extracted_texts):\n",
        "    print(f\"Sample from Textbook {i+1}:\\n{text[:500]}\\n{'-'*100}\\n\")"
      ],
      "metadata": {
        "colab": {
          "base_uri": "https://localhost:8080/"
        },
        "id": "-PrUAYdJdymb",
        "outputId": "319c44f7-2a05-467a-d7a2-859261bb17e0"
      },
      "execution_count": 3,
      "outputs": [
        {
          "output_type": "stream",
          "name": "stdout",
          "text": [
            "Sample from Textbook 1:\n",
            "Chapter 1\n",
            "It was a bright cold day in April, and the clocks were strik -\n",
            "ing thirteen. Winston Smith, his chin nuzzled into his \n",
            "breast in an effort to escape the vile wind, slipped quickly \n",
            "through the glass doors of Victory Mansions, though not \n",
            "quickly enough to prevent a swirl of gritty dust from enter -\n",
            "ing along with him.\n",
            "The hallway smelt of boiled cabbage and old rag mats. At \n",
            "one end of it a coloured poster, too large for indoor display, \n",
            "had been tacked to the wall. It depicted simply \n",
            "----------------------------------------------------------------------------------------------------\n",
            "\n",
            "Sample from Textbook 2:\n",
            "Chapter 1\n",
            "It is a truth universally acknowledged, that a single man in \n",
            "possession of a good fortune, must be in want of a wife.\n",
            "However little known the feelings or views of such a man \n",
            "may be on his first entering a neighbourhood, this truth is \n",
            "so well fixed in the minds of the surrounding families, that \n",
            "he is considered the rightful property of some one or other \n",
            "of their daughters.\n",
            "‘My dear Mr. Bennet,’ said his lady to him one day, ‘have \n",
            "you heard that Netherfield Park is let at last?’\n",
            "M\n",
            "----------------------------------------------------------------------------------------------------\n",
            "\n",
            "Sample from Textbook 3:\n",
            "Chapter I\n",
            "1801. I have just returned from a visit to my landlord the \n",
            "solitary neighbour that I shall be troubled with. This is cer -\n",
            "tainly a beautiful country! In all England, I do not believe \n",
            "that I could have fixed on a situation so completely removed \n",
            "from the stir of society. A perfect misanthropist’s heaven: \n",
            "and Mr. Heathcliff and I are such a suitable pair to divide \n",
            "the desolation between us. A capital fellow! He little imag -\n",
            "ined how my heart warmed towards him when I beheld his \n",
            "bl\n",
            "----------------------------------------------------------------------------------------------------\n",
            "\n"
          ]
        }
      ]
    }
  ]
}