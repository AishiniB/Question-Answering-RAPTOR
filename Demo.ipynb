{
  "nbformat": 4,
  "nbformat_minor": 0,
  "metadata": {
    "colab": {
      "provenance": []
    },
    "kernelspec": {
      "name": "python3",
      "display_name": "Python 3"
    },
    "language_info": {
      "name": "python"
    }
  },
  "cells": [
    {
      "cell_type": "code",
      "source": [
        "!pip install pymilvus faiss-cpu rank_bm25 'numpy==1.24.2' 'scipy==1.10.1' scikit-learn 'sentence-transformers==2.2.2' 'tenacity==8.2.3' 'tiktoken==0.5.1' torch 'transformers==4.38.1' 'umap-learn==0.5.5' 'urllib3==1.26.6' google-generativeai"
      ],
      "metadata": {
        "id": "x2xERA8_9U7K"
      },
      "execution_count": null,
      "outputs": []
    },
    {
      "cell_type": "code",
      "source": [
        "import sys\n",
        "sys.path.append('/content/')"
      ],
      "metadata": {
        "id": "CL2m6fysi8GG"
      },
      "execution_count": 8,
      "outputs": []
    },
    {
      "cell_type": "code",
      "source": [
        "import raptor_implementation"
      ],
      "metadata": {
        "id": "WF2SIjoxjUiM"
      },
      "execution_count": 10,
      "outputs": []
    },
    {
      "cell_type": "code",
      "source": [
        "import os\n",
        "import google.generativeai as genai\n",
        "from google.generativeai import GenerativeModel, configure\n",
        "\n",
        "# Ensure that your API key is set in the environment variables\n",
        "os.environ[\"API_KEY\"] = 'your-gemini-api-key'\n",
        "# Configure the API key\n",
        "configure(api_key='your-gemini-api-key')"
      ],
      "metadata": {
        "id": "9hjvXNzx-SJw"
      },
      "execution_count": 11,
      "outputs": []
    },
    {
      "cell_type": "code",
      "source": [
        "with open('/content/textbook2_extracted.txt', 'r') as file:\n",
        "    text = file.read()\n",
        "\n",
        "print(text[:100])\n",
        "#text = text[:5000]"
      ],
      "metadata": {
        "id": "NQUOrjgPvBUs"
      },
      "execution_count": null,
      "outputs": []
    },
    {
      "cell_type": "code",
      "source": [
        "config = raptor_implementation.RetrievalAugmentationConfig(tree_retriever_type=\"raptor\")\n",
        "ra = raptor_implementation.RetrievalAugmentation(config)\n",
        "ra.add_documents(text)"
      ],
      "metadata": {
        "id": "01m0kvEevHZT"
      },
      "execution_count": 22,
      "outputs": []
    },
    {
      "cell_type": "code",
      "source": [
        "ra.save('/content/Raptor-Tree-pride-and-prejudice.pkl')"
      ],
      "metadata": {
        "id": "I_LbVw7Cvdq-"
      },
      "execution_count": null,
      "outputs": []
    },
    {
      "cell_type": "code",
      "source": [
        "ZILLIZ_CLOUD_URI = \"your-zilliz-cloud-uri\"\n",
        "ZILLIZ_CLOUD_USER = \"your-username\"\n",
        "ZILLIZ_CLOUD_PASSWORD = \"your-password\""
      ],
      "metadata": {
        "id": "Xe24zurUvuqB"
      },
      "execution_count": 15,
      "outputs": []
    },
    {
      "cell_type": "code",
      "source": [
        "milvus_index = ra.store_in_milvus(ZILLIZ_CLOUD_URI, ZILLIZ_CLOUD_USER, ZILLIZ_CLOUD_PASSWORD)"
      ],
      "metadata": {
        "id": "edohrydpv1kE"
      },
      "execution_count": null,
      "outputs": []
    },
    {
      "cell_type": "code",
      "source": [
        "'''Tip for questioning:\n",
        "Make it as specific and detailed as possible.\n",
        "'''\n",
        "\n",
        "question = \"Describe the Bennett family and their mentality with justification. Give detailed explanation for your assertions.\"\n",
        "results = ra.retrieve_and_rank(question)\n",
        "print(results)"
      ],
      "metadata": {
        "id": "0sk53SfJv424"
      },
      "execution_count": null,
      "outputs": []
    },
    {
      "cell_type": "code",
      "source": [
        "answer, layer_info = ra.answer_question(question=question, return_layer_information=True)\n",
        "\n",
        "print(\"Answer: \", answer)\n",
        "print(\"\\nLayer Information:\")\n",
        "for info in layer_info:\n",
        "    print(f\"Node {info['node_index']} from layer {info['layer_number']}\")"
      ],
      "metadata": {
        "id": "WDRHcO1Qv8Qc"
      },
      "execution_count": null,
      "outputs": []
    }
  ]
}